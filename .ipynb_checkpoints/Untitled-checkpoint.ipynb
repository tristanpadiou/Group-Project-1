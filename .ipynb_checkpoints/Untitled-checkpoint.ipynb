{
 "cells": [
  {
   "cell_type": "code",
   "execution_count": null,
   "id": "b0ea162b-6317-4e83-be85-f977ebf21d12",
   "metadata": {},
   "outputs": [],
   "source": [
    "import pandas as pd\n",
    "realtordf=pd.read_csv('realtor-data.csv')\n",
    "realtordf"
   ]
  },
  {
   "cell_type": "code",
   "execution_count": null,
   "id": "82bbbcae-ac56-4504-a08e-d312867f301b",
   "metadata": {},
   "outputs": [],
   "source": []
  },
  {
   "cell_type": "code",
   "execution_count": null,
   "id": "4b01837e-29ab-4c49-aec4-45e09d6fad9d",
   "metadata": {},
   "outputs": [],
   "source": []
  }
 ],
 "metadata": {
  "kernelspec": {
   "display_name": "Python 3 (ipykernel)",
   "language": "python",
   "name": "python3"
  },
  "language_info": {
   "codemirror_mode": {
    "name": "ipython",
    "version": 3
   },
   "file_extension": ".py",
   "mimetype": "text/x-python",
   "name": "python",
   "nbconvert_exporter": "python",
   "pygments_lexer": "ipython3",
   "version": "3.11.7"
  }
 },
 "nbformat": 4,
 "nbformat_minor": 5
}
