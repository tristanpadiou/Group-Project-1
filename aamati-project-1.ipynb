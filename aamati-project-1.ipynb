{
 "cells": [
  {
   "cell_type": "code",
   "execution_count": 16,
   "id": "e9bb2aeb-97f3-4bb7-a8d7-0334461bff79",
   "metadata": {},
   "outputs": [],
   "source": [
    "import pandas as pd\n",
    "import numpy as np"
   ]
  },
  {
   "cell_type": "code",
   "execution_count": 17,
   "id": "3f1b8e44-c3f3-4930-ae24-21cfd74cc1f6",
   "metadata": {},
   "outputs": [],
   "source": [
    "Medals_tally = pd.read_csv('files/Olympic_Games_Medal_Tally.csv')"
   ]
  },
  {
   "cell_type": "code",
   "execution_count": 18,
   "id": "7d2649bd-86de-4bd0-a54b-8b702208a66a",
   "metadata": {},
   "outputs": [
    {
     "data": {
      "text/html": [
       "<div>\n",
       "<style scoped>\n",
       "    .dataframe tbody tr th:only-of-type {\n",
       "        vertical-align: middle;\n",
       "    }\n",
       "\n",
       "    .dataframe tbody tr th {\n",
       "        vertical-align: top;\n",
       "    }\n",
       "\n",
       "    .dataframe thead th {\n",
       "        text-align: right;\n",
       "    }\n",
       "</style>\n",
       "<table border=\"1\" class=\"dataframe\">\n",
       "  <thead>\n",
       "    <tr style=\"text-align: right;\">\n",
       "      <th></th>\n",
       "      <th>edition</th>\n",
       "      <th>edition_id</th>\n",
       "      <th>year</th>\n",
       "      <th>country</th>\n",
       "      <th>country_noc</th>\n",
       "      <th>gold</th>\n",
       "      <th>silver</th>\n",
       "      <th>bronze</th>\n",
       "      <th>total</th>\n",
       "    </tr>\n",
       "  </thead>\n",
       "  <tbody>\n",
       "    <tr>\n",
       "      <th>0</th>\n",
       "      <td>1896 Summer Olympics</td>\n",
       "      <td>1</td>\n",
       "      <td>1896</td>\n",
       "      <td>United States</td>\n",
       "      <td>USA</td>\n",
       "      <td>11</td>\n",
       "      <td>7</td>\n",
       "      <td>2</td>\n",
       "      <td>20</td>\n",
       "    </tr>\n",
       "    <tr>\n",
       "      <th>1</th>\n",
       "      <td>1896 Summer Olympics</td>\n",
       "      <td>1</td>\n",
       "      <td>1896</td>\n",
       "      <td>Greece</td>\n",
       "      <td>GRE</td>\n",
       "      <td>10</td>\n",
       "      <td>18</td>\n",
       "      <td>19</td>\n",
       "      <td>47</td>\n",
       "    </tr>\n",
       "  </tbody>\n",
       "</table>\n",
       "</div>"
      ],
      "text/plain": [
       "                edition  edition_id  year        country country_noc  gold  \\\n",
       "0  1896 Summer Olympics           1  1896  United States         USA    11   \n",
       "1  1896 Summer Olympics           1  1896         Greece         GRE    10   \n",
       "\n",
       "   silver  bronze  total  \n",
       "0       7       2     20  \n",
       "1      18      19     47  "
      ]
     },
     "execution_count": 18,
     "metadata": {},
     "output_type": "execute_result"
    }
   ],
   "source": [
    "Medals_tally.head(2)"
   ]
  },
  {
   "cell_type": "code",
   "execution_count": 19,
   "id": "4ea59027-6d80-416c-8949-b2fa867a81f5",
   "metadata": {},
   "outputs": [],
   "source": [
    "Medals_tally[['edy', 'eds']] = Medals_tally['edition'].str.split(' ', n=1, expand=True)"
   ]
  },
  {
   "cell_type": "code",
   "execution_count": 20,
   "id": "79d58305-7329-489f-a3b9-1aeef04652b0",
   "metadata": {},
   "outputs": [
    {
     "data": {
      "text/html": [
       "<div>\n",
       "<style scoped>\n",
       "    .dataframe tbody tr th:only-of-type {\n",
       "        vertical-align: middle;\n",
       "    }\n",
       "\n",
       "    .dataframe tbody tr th {\n",
       "        vertical-align: top;\n",
       "    }\n",
       "\n",
       "    .dataframe thead th {\n",
       "        text-align: right;\n",
       "    }\n",
       "</style>\n",
       "<table border=\"1\" class=\"dataframe\">\n",
       "  <thead>\n",
       "    <tr style=\"text-align: right;\">\n",
       "      <th></th>\n",
       "      <th>edition</th>\n",
       "      <th>edition_id</th>\n",
       "      <th>year</th>\n",
       "      <th>country</th>\n",
       "      <th>country_noc</th>\n",
       "      <th>gold</th>\n",
       "      <th>silver</th>\n",
       "      <th>bronze</th>\n",
       "      <th>total</th>\n",
       "      <th>edy</th>\n",
       "      <th>eds</th>\n",
       "    </tr>\n",
       "  </thead>\n",
       "  <tbody>\n",
       "    <tr>\n",
       "      <th>1805</th>\n",
       "      <td>1906 Intercalated</td>\n",
       "      <td>4</td>\n",
       "      <td>1906</td>\n",
       "      <td>Australia</td>\n",
       "      <td>AUS</td>\n",
       "      <td>0</td>\n",
       "      <td>0</td>\n",
       "      <td>3</td>\n",
       "      <td>3</td>\n",
       "      <td>1906</td>\n",
       "      <td>Intercalated</td>\n",
       "    </tr>\n",
       "    <tr>\n",
       "      <th>1806</th>\n",
       "      <td>1906 Intercalated</td>\n",
       "      <td>4</td>\n",
       "      <td>1906</td>\n",
       "      <td>Bohemia</td>\n",
       "      <td>BOH</td>\n",
       "      <td>0</td>\n",
       "      <td>0</td>\n",
       "      <td>2</td>\n",
       "      <td>2</td>\n",
       "      <td>1906</td>\n",
       "      <td>Intercalated</td>\n",
       "    </tr>\n",
       "  </tbody>\n",
       "</table>\n",
       "</div>"
      ],
      "text/plain": [
       "                edition  edition_id  year    country country_noc  gold  \\\n",
       "1805  1906 Intercalated           4  1906  Australia         AUS     0   \n",
       "1806  1906 Intercalated           4  1906    Bohemia         BOH     0   \n",
       "\n",
       "      silver  bronze  total   edy           eds  \n",
       "1805       0       3      3  1906  Intercalated  \n",
       "1806       0       2      2  1906  Intercalated  "
      ]
     },
     "execution_count": 20,
     "metadata": {},
     "output_type": "execute_result"
    }
   ],
   "source": [
    "Medals_tally.tail(2)"
   ]
  },
  {
   "cell_type": "code",
   "execution_count": 21,
   "id": "b26b6137-80b1-49a8-9387-83e688d8c616",
   "metadata": {},
   "outputs": [],
   "source": [
    "df = Medals_tally"
   ]
  },
  {
   "cell_type": "code",
   "execution_count": 22,
   "id": "fd12c0f9-459c-4f24-87e4-7b437dc406e1",
   "metadata": {},
   "outputs": [],
   "source": [
    "df = df.drop(df.columns[[0, 1, 3, 5,6,7,9]], axis=1) "
   ]
  },
  {
   "cell_type": "code",
   "execution_count": 23,
   "id": "a7fdddbe-4d01-42b1-8938-a92f3dca0c3d",
   "metadata": {},
   "outputs": [
    {
     "data": {
      "text/html": [
       "<div>\n",
       "<style scoped>\n",
       "    .dataframe tbody tr th:only-of-type {\n",
       "        vertical-align: middle;\n",
       "    }\n",
       "\n",
       "    .dataframe tbody tr th {\n",
       "        vertical-align: top;\n",
       "    }\n",
       "\n",
       "    .dataframe thead th {\n",
       "        text-align: right;\n",
       "    }\n",
       "</style>\n",
       "<table border=\"1\" class=\"dataframe\">\n",
       "  <thead>\n",
       "    <tr style=\"text-align: right;\">\n",
       "      <th></th>\n",
       "      <th>year</th>\n",
       "      <th>country_noc</th>\n",
       "      <th>total</th>\n",
       "      <th>eds</th>\n",
       "    </tr>\n",
       "  </thead>\n",
       "  <tbody>\n",
       "    <tr>\n",
       "      <th>0</th>\n",
       "      <td>1896</td>\n",
       "      <td>USA</td>\n",
       "      <td>20</td>\n",
       "      <td>Summer Olympics</td>\n",
       "    </tr>\n",
       "    <tr>\n",
       "      <th>1</th>\n",
       "      <td>1896</td>\n",
       "      <td>GRE</td>\n",
       "      <td>47</td>\n",
       "      <td>Summer Olympics</td>\n",
       "    </tr>\n",
       "  </tbody>\n",
       "</table>\n",
       "</div>"
      ],
      "text/plain": [
       "   year country_noc  total              eds\n",
       "0  1896         USA     20  Summer Olympics\n",
       "1  1896         GRE     47  Summer Olympics"
      ]
     },
     "execution_count": 23,
     "metadata": {},
     "output_type": "execute_result"
    }
   ],
   "source": [
    "df.head(2)"
   ]
  },
  {
   "cell_type": "code",
   "execution_count": 24,
   "id": "094a88e3-a707-486b-ab6e-a34e9a9bd0f4",
   "metadata": {},
   "outputs": [],
   "source": [
    "df = df.drop(df[df.year < 1996].index)"
   ]
  },
  {
   "cell_type": "code",
   "execution_count": 25,
   "id": "22b9ff9f-e62b-4dd3-b078-f64147f71296",
   "metadata": {},
   "outputs": [
    {
     "data": {
      "text/html": [
       "<div>\n",
       "<style scoped>\n",
       "    .dataframe tbody tr th:only-of-type {\n",
       "        vertical-align: middle;\n",
       "    }\n",
       "\n",
       "    .dataframe tbody tr th {\n",
       "        vertical-align: top;\n",
       "    }\n",
       "\n",
       "    .dataframe thead th {\n",
       "        text-align: right;\n",
       "    }\n",
       "</style>\n",
       "<table border=\"1\" class=\"dataframe\">\n",
       "  <thead>\n",
       "    <tr style=\"text-align: right;\">\n",
       "      <th></th>\n",
       "      <th>year</th>\n",
       "      <th>country_noc</th>\n",
       "      <th>total</th>\n",
       "      <th>eds</th>\n",
       "    </tr>\n",
       "  </thead>\n",
       "  <tbody>\n",
       "    <tr>\n",
       "      <th>758</th>\n",
       "      <td>1996</td>\n",
       "      <td>USA</td>\n",
       "      <td>101</td>\n",
       "      <td>Summer Olympics</td>\n",
       "    </tr>\n",
       "    <tr>\n",
       "      <th>759</th>\n",
       "      <td>1996</td>\n",
       "      <td>RUS</td>\n",
       "      <td>63</td>\n",
       "      <td>Summer Olympics</td>\n",
       "    </tr>\n",
       "  </tbody>\n",
       "</table>\n",
       "</div>"
      ],
      "text/plain": [
       "     year country_noc  total              eds\n",
       "758  1996         USA    101  Summer Olympics\n",
       "759  1996         RUS     63  Summer Olympics"
      ]
     },
     "execution_count": 25,
     "metadata": {},
     "output_type": "execute_result"
    }
   ],
   "source": [
    "df.head(2)"
   ]
  },
  {
   "cell_type": "code",
   "execution_count": 26,
   "id": "219d7d8a-1f36-412f-8453-8ad284ecedd9",
   "metadata": {},
   "outputs": [],
   "source": [
    "dfsummer = df.drop(df[(df.eds != 'Summer Olympics')].index)"
   ]
  },
  {
   "cell_type": "code",
   "execution_count": 27,
   "id": "5def8f17-36e1-47ae-b725-32c0b1f1ff88",
   "metadata": {},
   "outputs": [
    {
     "data": {
      "text/html": [
       "<div>\n",
       "<style scoped>\n",
       "    .dataframe tbody tr th:only-of-type {\n",
       "        vertical-align: middle;\n",
       "    }\n",
       "\n",
       "    .dataframe tbody tr th {\n",
       "        vertical-align: top;\n",
       "    }\n",
       "\n",
       "    .dataframe thead th {\n",
       "        text-align: right;\n",
       "    }\n",
       "</style>\n",
       "<table border=\"1\" class=\"dataframe\">\n",
       "  <thead>\n",
       "    <tr style=\"text-align: right;\">\n",
       "      <th></th>\n",
       "      <th>year</th>\n",
       "      <th>country_noc</th>\n",
       "      <th>total</th>\n",
       "      <th>eds</th>\n",
       "    </tr>\n",
       "  </thead>\n",
       "  <tbody>\n",
       "    <tr>\n",
       "      <th>758</th>\n",
       "      <td>1996</td>\n",
       "      <td>USA</td>\n",
       "      <td>101</td>\n",
       "      <td>Summer Olympics</td>\n",
       "    </tr>\n",
       "    <tr>\n",
       "      <th>759</th>\n",
       "      <td>1996</td>\n",
       "      <td>RUS</td>\n",
       "      <td>63</td>\n",
       "      <td>Summer Olympics</td>\n",
       "    </tr>\n",
       "  </tbody>\n",
       "</table>\n",
       "</div>"
      ],
      "text/plain": [
       "     year country_noc  total              eds\n",
       "758  1996         USA    101  Summer Olympics\n",
       "759  1996         RUS     63  Summer Olympics"
      ]
     },
     "execution_count": 27,
     "metadata": {},
     "output_type": "execute_result"
    }
   ],
   "source": [
    "dfsummer.head(2)"
   ]
  },
  {
   "cell_type": "code",
   "execution_count": 28,
   "id": "cefada87-7248-4f42-a129-245fdce430d9",
   "metadata": {},
   "outputs": [
    {
     "data": {
      "text/plain": [
       "<bound method DataFrame.info of       year country_noc  total              eds\n",
       "758   1996         USA    101  Summer Olympics\n",
       "759   1996         RUS     63  Summer Olympics\n",
       "760   1996         GER     65  Summer Olympics\n",
       "761   1996         CHN     50  Summer Olympics\n",
       "762   1996         FRA     37  Summer Olympics\n",
       "...    ...         ...    ...              ...\n",
       "1338  2020         GHA      1  Summer Olympics\n",
       "1339  2020         GRN      1  Summer Olympics\n",
       "1340  2020         KUW      1  Summer Olympics\n",
       "1341  2020         MDA      1  Summer Olympics\n",
       "1342  2020         SYR      1  Summer Olympics\n",
       "\n",
       "[585 rows x 4 columns]>"
      ]
     },
     "execution_count": 28,
     "metadata": {},
     "output_type": "execute_result"
    }
   ],
   "source": [
    "dfsummer.info"
   ]
  },
  {
   "cell_type": "code",
   "execution_count": 29,
   "id": "9d9e52d9-efda-4bcf-ac9f-4f1e2481b7c7",
   "metadata": {},
   "outputs": [],
   "source": [
    "df= dfsummer"
   ]
  },
  {
   "cell_type": "code",
   "execution_count": 30,
   "id": "a0582d39-d038-43b0-93d4-028118e8592b",
   "metadata": {},
   "outputs": [
    {
     "data": {
      "text/plain": [
       "<bound method DataFrame.info of       year country_noc  total              eds\n",
       "758   1996         USA    101  Summer Olympics\n",
       "759   1996         RUS     63  Summer Olympics\n",
       "760   1996         GER     65  Summer Olympics\n",
       "761   1996         CHN     50  Summer Olympics\n",
       "762   1996         FRA     37  Summer Olympics\n",
       "...    ...         ...    ...              ...\n",
       "1338  2020         GHA      1  Summer Olympics\n",
       "1339  2020         GRN      1  Summer Olympics\n",
       "1340  2020         KUW      1  Summer Olympics\n",
       "1341  2020         MDA      1  Summer Olympics\n",
       "1342  2020         SYR      1  Summer Olympics\n",
       "\n",
       "[585 rows x 4 columns]>"
      ]
     },
     "execution_count": 30,
     "metadata": {},
     "output_type": "execute_result"
    }
   ],
   "source": [
    "df.info"
   ]
  },
  {
   "cell_type": "code",
   "execution_count": 31,
   "id": "6684c139-5543-4bc1-a2da-6ebc0e3e6e0d",
   "metadata": {},
   "outputs": [],
   "source": [
    "dfsummer2 = df.drop(df.columns[[3]], axis=1) "
   ]
  },
  {
   "cell_type": "code",
   "execution_count": 32,
   "id": "3c905f63-8c1d-470c-9853-e3a26b9228ba",
   "metadata": {},
   "outputs": [
    {
     "name": "stdout",
     "output_type": "stream",
     "text": [
      "<class 'pandas.core.frame.DataFrame'>\n",
      "Index: 585 entries, 758 to 1342\n",
      "Data columns (total 3 columns):\n",
      " #   Column       Non-Null Count  Dtype \n",
      "---  ------       --------------  ----- \n",
      " 0   year         585 non-null    int64 \n",
      " 1   country_noc  585 non-null    object\n",
      " 2   total        585 non-null    int64 \n",
      "dtypes: int64(2), object(1)\n",
      "memory usage: 18.3+ KB\n"
     ]
    }
   ],
   "source": [
    "dfsummer2.info()"
   ]
  },
  {
   "cell_type": "code",
   "execution_count": 33,
   "id": "4c8d99c9-2be8-401c-bfea-289a62d336ef",
   "metadata": {},
   "outputs": [
    {
     "data": {
      "text/plain": [
       "<bound method DataFrame.info of       year country_noc  total\n",
       "758   1996         USA    101\n",
       "759   1996         RUS     63\n",
       "760   1996         GER     65\n",
       "761   1996         CHN     50\n",
       "762   1996         FRA     37\n",
       "...    ...         ...    ...\n",
       "1338  2020         GHA      1\n",
       "1339  2020         GRN      1\n",
       "1340  2020         KUW      1\n",
       "1341  2020         MDA      1\n",
       "1342  2020         SYR      1\n",
       "\n",
       "[585 rows x 3 columns]>"
      ]
     },
     "execution_count": 33,
     "metadata": {},
     "output_type": "execute_result"
    }
   ],
   "source": [
    "dfsummer2.info"
   ]
  },
  {
   "cell_type": "code",
   "execution_count": 34,
   "id": "208858e5-e5ea-43da-be1e-7dd717d582ea",
   "metadata": {},
   "outputs": [],
   "source": [
    "dfs1996 = dfsummer2.drop(df[df.year != 1996].index)"
   ]
  },
  {
   "cell_type": "code",
   "execution_count": 35,
   "id": "43ef53f3-6af5-4aff-a6e8-d089d7dcbbdc",
   "metadata": {},
   "outputs": [
    {
     "data": {
      "text/html": [
       "<div>\n",
       "<style scoped>\n",
       "    .dataframe tbody tr th:only-of-type {\n",
       "        vertical-align: middle;\n",
       "    }\n",
       "\n",
       "    .dataframe tbody tr th {\n",
       "        vertical-align: top;\n",
       "    }\n",
       "\n",
       "    .dataframe thead th {\n",
       "        text-align: right;\n",
       "    }\n",
       "</style>\n",
       "<table border=\"1\" class=\"dataframe\">\n",
       "  <thead>\n",
       "    <tr style=\"text-align: right;\">\n",
       "      <th></th>\n",
       "      <th>year</th>\n",
       "      <th>country_noc</th>\n",
       "      <th>total</th>\n",
       "    </tr>\n",
       "  </thead>\n",
       "  <tbody>\n",
       "    <tr>\n",
       "      <th>758</th>\n",
       "      <td>1996</td>\n",
       "      <td>USA</td>\n",
       "      <td>101</td>\n",
       "    </tr>\n",
       "    <tr>\n",
       "      <th>759</th>\n",
       "      <td>1996</td>\n",
       "      <td>RUS</td>\n",
       "      <td>63</td>\n",
       "    </tr>\n",
       "  </tbody>\n",
       "</table>\n",
       "</div>"
      ],
      "text/plain": [
       "     year country_noc  total\n",
       "758  1996         USA    101\n",
       "759  1996         RUS     63"
      ]
     },
     "execution_count": 35,
     "metadata": {},
     "output_type": "execute_result"
    }
   ],
   "source": [
    "dfs1996.head(2)"
   ]
  },
  {
   "cell_type": "code",
   "execution_count": 36,
   "id": "01443447-0b54-4f61-bd15-fd5b57926e26",
   "metadata": {},
   "outputs": [
    {
     "data": {
      "text/plain": [
       "(79, 3)"
      ]
     },
     "execution_count": 36,
     "metadata": {},
     "output_type": "execute_result"
    }
   ],
   "source": [
    "dfs1996.shape"
   ]
  },
  {
   "cell_type": "code",
   "execution_count": 37,
   "id": "f826dd71-3af2-4083-83be-df8259bfed74",
   "metadata": {},
   "outputs": [
    {
     "data": {
      "text/plain": [
       "<bound method DataFrame.info of      year country_noc  total\n",
       "758  1996         USA    101\n",
       "759  1996         RUS     63\n",
       "760  1996         GER     65\n",
       "761  1996         CHN     50\n",
       "762  1996         FRA     37\n",
       "..    ...         ...    ...\n",
       "832  1996         MGL      1\n",
       "833  1996         MOZ      1\n",
       "834  1996         PUR      1\n",
       "835  1996         TUN      1\n",
       "836  1996         UGA      1\n",
       "\n",
       "[79 rows x 3 columns]>"
      ]
     },
     "execution_count": 37,
     "metadata": {},
     "output_type": "execute_result"
    }
   ],
   "source": [
    "dfs1996.info"
   ]
  },
  {
   "cell_type": "code",
   "execution_count": 38,
   "id": "692dba17-4ddf-49fd-a129-bdccf4010c02",
   "metadata": {},
   "outputs": [],
   "source": [
    "df96 = pd.DataFrame(dfs1996)"
   ]
  },
  {
   "cell_type": "code",
   "execution_count": 39,
   "id": "f8a66618-2ea2-47ba-bfb8-d39dc9fdad95",
   "metadata": {},
   "outputs": [],
   "source": [
    "s1996 = df96['total'].sum()"
   ]
  },
  {
   "cell_type": "code",
   "execution_count": 40,
   "id": "7ee708cd-a33f-4f8e-a81a-027eac0a4fad",
   "metadata": {},
   "outputs": [
    {
     "data": {
      "text/plain": [
       "842"
      ]
     },
     "execution_count": 40,
     "metadata": {},
     "output_type": "execute_result"
    }
   ],
   "source": [
    "s1996"
   ]
  },
  {
   "cell_type": "code",
   "execution_count": 41,
   "id": "d2cbfba8-6b6e-4f17-a7e2-b7265e958974",
   "metadata": {},
   "outputs": [],
   "source": [
    "df96['share'] = df96['total'] /s1996"
   ]
  },
  {
   "cell_type": "code",
   "execution_count": 42,
   "id": "ed938e4e-9e8a-407c-a9ab-4967f0fd207d",
   "metadata": {},
   "outputs": [
    {
     "data": {
      "text/plain": [
       "<bound method DataFrame.info of      year country_noc  total     share\n",
       "758  1996         USA    101  0.119952\n",
       "759  1996         RUS     63  0.074822\n",
       "760  1996         GER     65  0.077197\n",
       "761  1996         CHN     50  0.059382\n",
       "762  1996         FRA     37  0.043943\n",
       "..    ...         ...    ...       ...\n",
       "832  1996         MGL      1  0.001188\n",
       "833  1996         MOZ      1  0.001188\n",
       "834  1996         PUR      1  0.001188\n",
       "835  1996         TUN      1  0.001188\n",
       "836  1996         UGA      1  0.001188\n",
       "\n",
       "[79 rows x 4 columns]>"
      ]
     },
     "execution_count": 42,
     "metadata": {},
     "output_type": "execute_result"
    }
   ],
   "source": [
    "df96.info"
   ]
  },
  {
   "cell_type": "code",
   "execution_count": 43,
   "id": "44e3b70b-f590-4248-9f38-ab12ff2dd948",
   "metadata": {},
   "outputs": [
    {
     "name": "stdout",
     "output_type": "stream",
     "text": [
      "<class 'pandas.core.frame.DataFrame'>\n",
      "Index: 79 entries, 758 to 836\n",
      "Data columns (total 4 columns):\n",
      " #   Column       Non-Null Count  Dtype  \n",
      "---  ------       --------------  -----  \n",
      " 0   year         79 non-null     int64  \n",
      " 1   country_noc  79 non-null     object \n",
      " 2   total        79 non-null     int64  \n",
      " 3   share        79 non-null     float64\n",
      "dtypes: float64(1), int64(2), object(1)\n",
      "memory usage: 3.1+ KB\n"
     ]
    }
   ],
   "source": [
    "df96.info()"
   ]
  },
  {
   "cell_type": "code",
   "execution_count": 44,
   "id": "afe08790-b006-4ab6-b959-9a3bb1b96d07",
   "metadata": {},
   "outputs": [],
   "source": [
    "dfs2020 = dfsummer2.drop(df[df.year != 2020].index)"
   ]
  },
  {
   "cell_type": "code",
   "execution_count": 45,
   "id": "51d70205-182d-4586-adc9-fc7d6cc2f4ed",
   "metadata": {},
   "outputs": [],
   "source": [
    "df20 = pd.DataFrame(dfs2020)"
   ]
  },
  {
   "cell_type": "code",
   "execution_count": 46,
   "id": "5cd75ee1-f3d7-4d40-9c85-102ac1e650d5",
   "metadata": {},
   "outputs": [
    {
     "data": {
      "text/plain": [
       "1080"
      ]
     },
     "execution_count": 46,
     "metadata": {},
     "output_type": "execute_result"
    }
   ],
   "source": [
    "s2020 = df20['total'].sum()\n",
    "s2020"
   ]
  },
  {
   "cell_type": "code",
   "execution_count": 47,
   "id": "f8cb20f7-9d56-42c5-b3a0-5982c7ffac2f",
   "metadata": {},
   "outputs": [],
   "source": [
    "df20['share'] = df20['total'] /s2020"
   ]
  },
  {
   "cell_type": "code",
   "execution_count": 48,
   "id": "e4f2e6af-a7fa-4167-b6e2-cdb8ca814b49",
   "metadata": {},
   "outputs": [
    {
     "data": {
      "text/plain": [
       "<bound method DataFrame.info of       year country_noc  total     share\n",
       "1250  2020         USA    113  0.104630\n",
       "1251  2020         CHN     89  0.082407\n",
       "1252  2020         JPN     58  0.053704\n",
       "1253  2020         GBR     64  0.059259\n",
       "1254  2020         ROC     71  0.065741\n",
       "...    ...         ...    ...       ...\n",
       "1338  2020         GHA      1  0.000926\n",
       "1339  2020         GRN      1  0.000926\n",
       "1340  2020         KUW      1  0.000926\n",
       "1341  2020         MDA      1  0.000926\n",
       "1342  2020         SYR      1  0.000926\n",
       "\n",
       "[93 rows x 4 columns]>"
      ]
     },
     "execution_count": 48,
     "metadata": {},
     "output_type": "execute_result"
    }
   ],
   "source": [
    "df20.info"
   ]
  },
  {
   "cell_type": "code",
   "execution_count": 49,
   "id": "8f15da31-78bc-4e02-b101-4f3f0527105a",
   "metadata": {},
   "outputs": [
    {
     "data": {
      "text/plain": [
       "(93, 4)"
      ]
     },
     "execution_count": 49,
     "metadata": {},
     "output_type": "execute_result"
    }
   ],
   "source": [
    "df20.shape"
   ]
  },
  {
   "cell_type": "code",
   "execution_count": 50,
   "id": "0dd06e83-097a-4157-adbe-5e294e2417b9",
   "metadata": {},
   "outputs": [
    {
     "data": {
      "text/plain": [
       "(86, 4)"
      ]
     },
     "execution_count": 50,
     "metadata": {},
     "output_type": "execute_result"
    }
   ],
   "source": [
    "dfs2016 = dfsummer2.drop(df[df.year != 2016].index)\n",
    "df16 = pd.DataFrame(dfs2016)\n",
    "s2016 = df16['total'].sum()\n",
    "df16['share'] = df16['total'] /s2016\n",
    "df16.info\n",
    "df16.shape"
   ]
  },
  {
   "cell_type": "code",
   "execution_count": 51,
   "id": "9dc6a4be-ce6d-4483-a5ad-b5dca7a8fffd",
   "metadata": {},
   "outputs": [
    {
     "data": {
      "text/plain": [
       "(86, 4)"
      ]
     },
     "execution_count": 51,
     "metadata": {},
     "output_type": "execute_result"
    }
   ],
   "source": [
    "dfs2012 = dfsummer2.drop(df[df.year != 2012].index)\n",
    "df12 = pd.DataFrame(dfs2012)\n",
    "s2012 = df12['total'].sum()\n",
    "df12['share'] = df12['total'] /s2012\n",
    "df12.info\n",
    "df12.shape"
   ]
  },
  {
   "cell_type": "code",
   "execution_count": 52,
   "id": "a13415f0-24f1-4b36-8645-378491d49ca5",
   "metadata": {},
   "outputs": [
    {
     "data": {
      "text/plain": [
       "(74, 4)"
      ]
     },
     "execution_count": 52,
     "metadata": {},
     "output_type": "execute_result"
    }
   ],
   "source": [
    "dfs2004 = dfsummer2.drop(df[df.year != 2004].index)\n",
    "df04 = pd.DataFrame(dfs2004)\n",
    "s2004 = df04['total'].sum()\n",
    "df04['share'] = df04['total'] /s2004\n",
    "df04.info\n",
    "df04.shape"
   ]
  },
  {
   "cell_type": "code",
   "execution_count": 53,
   "id": "b3fbd2a9-455d-445e-8078-25cf1cb985ec",
   "metadata": {},
   "outputs": [
    {
     "data": {
      "text/plain": [
       "(80, 4)"
      ]
     },
     "execution_count": 53,
     "metadata": {},
     "output_type": "execute_result"
    }
   ],
   "source": [
    "dfs2000 = dfsummer2.drop(df[df.year != 2000].index)\n",
    "df00 = pd.DataFrame(dfs2000)\n",
    "s2000 = df00['total'].sum()\n",
    "df00['share'] = df00['total'] /s2000\n",
    "df00.info\n",
    "df00.shape"
   ]
  },
  {
   "cell_type": "code",
   "execution_count": 54,
   "id": "9b4515b7-028f-4fe9-8116-b44a7ccddaa7",
   "metadata": {},
   "outputs": [
    {
     "data": {
      "text/plain": [
       "(87, 4)"
      ]
     },
     "execution_count": 54,
     "metadata": {},
     "output_type": "execute_result"
    }
   ],
   "source": [
    "dfs2008 = dfsummer2.drop(df[df.year != 2008].index)\n",
    "df08 = pd.DataFrame(dfs2008)\n",
    "s2008 = df08['total'].sum()\n",
    "df08['share'] = df08['total'] /s2008\n",
    "df08.info\n",
    "df08.shape"
   ]
  },
  {
   "cell_type": "code",
   "execution_count": 55,
   "id": "ac257954-cb7d-47af-882b-e0434aba70c7",
   "metadata": {},
   "outputs": [],
   "source": [
    "d96=pd.DataFrame(df96)\n",
    "d00=pd.DataFrame(df00)\n",
    "d04=pd.DataFrame(df04)\n",
    "d08=pd.DataFrame(df08)\n",
    "d12=pd.DataFrame(df12)\n",
    "d16=pd.DataFrame(df16)\n",
    "d20=pd.DataFrame(df20)"
   ]
  },
  {
   "cell_type": "code",
   "execution_count": 56,
   "id": "35d44d05-246c-4c17-8b81-6c89d0b8ac9f",
   "metadata": {},
   "outputs": [],
   "source": [
    "combined_df = pd.concat([d96, d00, d04, d08, d12, d16, d20], ignore_index=True)"
   ]
  },
  {
   "cell_type": "code",
   "execution_count": 57,
   "id": "f9977f71-7eb7-43ba-84d0-fbb1e4d3f380",
   "metadata": {},
   "outputs": [
    {
     "data": {
      "text/plain": [
       "<bound method DataFrame.info of      year country_noc  total     share\n",
       "0    1996         USA    101  0.119952\n",
       "1    1996         RUS     63  0.074822\n",
       "2    1996         GER     65  0.077197\n",
       "3    1996         CHN     50  0.059382\n",
       "4    1996         FRA     37  0.043943\n",
       "..    ...         ...    ...       ...\n",
       "580  2020         GHA      1  0.000926\n",
       "581  2020         GRN      1  0.000926\n",
       "582  2020         KUW      1  0.000926\n",
       "583  2020         MDA      1  0.000926\n",
       "584  2020         SYR      1  0.000926\n",
       "\n",
       "[585 rows x 4 columns]>"
      ]
     },
     "execution_count": 57,
     "metadata": {},
     "output_type": "execute_result"
    }
   ],
   "source": [
    "combined_df.info"
   ]
  },
  {
   "cell_type": "code",
   "execution_count": 58,
   "id": "0b70e573-0b6d-4ff0-8ca5-606fac374938",
   "metadata": {},
   "outputs": [
    {
     "name": "stdout",
     "output_type": "stream",
     "text": [
      "     year country_noc  total     share\n",
      "0    1996         USA    101  0.119952\n",
      "1    1996         RUS     63  0.074822\n",
      "2    1996         GER     65  0.077197\n",
      "3    1996         CHN     50  0.059382\n",
      "4    1996         FRA     37  0.043943\n",
      "..    ...         ...    ...       ...\n",
      "580  2020         GHA      1  0.000926\n",
      "581  2020         GRN      1  0.000926\n",
      "582  2020         KUW      1  0.000926\n",
      "583  2020         MDA      1  0.000926\n",
      "584  2020         SYR      1  0.000926\n",
      "\n",
      "[585 rows x 4 columns]\n"
     ]
    }
   ],
   "source": [
    "print(combined_df)"
   ]
  },
  {
   "cell_type": "code",
   "execution_count": 59,
   "id": "201ef886-0f11-4014-ae88-b12b46fde323",
   "metadata": {},
   "outputs": [],
   "source": [
    "final_df = combined_df.set_index('country_noc')"
   ]
  },
  {
   "cell_type": "code",
   "execution_count": 64,
   "id": "85db5e6b-0fdb-4838-9aa9-81ffd2b1178d",
   "metadata": {},
   "outputs": [
    {
     "data": {
      "text/plain": [
       "<bound method DataFrame.info of              year  total     share\n",
       "country_noc                       \n",
       "USA          1996    101  0.119952\n",
       "RUS          1996     63  0.074822\n",
       "GER          1996     65  0.077197\n",
       "CHN          1996     50  0.059382\n",
       "FRA          1996     37  0.043943\n",
       "...           ...    ...       ...\n",
       "GHA          2020      1  0.000926\n",
       "GRN          2020      1  0.000926\n",
       "KUW          2020      1  0.000926\n",
       "MDA          2020      1  0.000926\n",
       "SYR          2020      1  0.000926\n",
       "\n",
       "[585 rows x 3 columns]>"
      ]
     },
     "execution_count": 64,
     "metadata": {},
     "output_type": "execute_result"
    }
   ],
   "source": [
    "final_df.info"
   ]
  },
  {
   "cell_type": "code",
   "execution_count": 66,
   "id": "d1e81312-facc-4895-98b8-5b92467dc97c",
   "metadata": {},
   "outputs": [],
   "source": [
    "#from sklearn.model_selection import train_test_split\n",
    "#from sklearn.linear_model import LinearRegression\n",
    "#from sklearn.metrics import mean_squared_error"
   ]
  },
  {
   "cell_type": "code",
   "execution_count": 68,
   "id": "3f7c8862-b474-4d9e-b81c-6870a6383aac",
   "metadata": {},
   "outputs": [
    {
     "name": "stdout",
     "output_type": "stream",
     "text": [
      "<class 'pandas.core.frame.DataFrame'>\n",
      "Index: 1210 entries, 46 to 21583\n",
      "Data columns (total 4 columns):\n",
      " #   Column          Non-Null Count  Dtype  \n",
      "---  ------          --------------  -----  \n",
      " 0   Entity          1210 non-null   object \n",
      " 1   Code            1179 non-null   object \n",
      " 2   Year            1210 non-null   int64  \n",
      " 3   GDP per capita  1210 non-null   float64\n",
      "dtypes: float64(1), int64(1), object(2)\n",
      "memory usage: 47.3+ KB\n"
     ]
    }
   ],
   "source": [
    "df = pd.read_csv(\"gdp-per-capita-maddison.csv\")\n",
    "df.isna().sum()\n",
    "df = df.drop_duplicates()\n",
    "df =df.drop(columns = '900793-annotations')\n",
    "for x in df.index:\n",
    "    if df.loc[x, 'Year'] not in [1996, 2000, 2004, 2008, 2012, 2016, 2020]:\n",
    "        df.drop(x, inplace=True)\n",
    "df.isna().sum()\n",
    "df.info()"
   ]
  },
  {
   "cell_type": "code",
   "execution_count": 70,
   "id": "71f5178b-73d7-4e83-8f53-57006fcfe871",
   "metadata": {},
   "outputs": [
    {
     "data": {
      "text/html": [
       "<div>\n",
       "<style scoped>\n",
       "    .dataframe tbody tr th:only-of-type {\n",
       "        vertical-align: middle;\n",
       "    }\n",
       "\n",
       "    .dataframe tbody tr th {\n",
       "        vertical-align: top;\n",
       "    }\n",
       "\n",
       "    .dataframe thead th {\n",
       "        text-align: right;\n",
       "    }\n",
       "</style>\n",
       "<table border=\"1\" class=\"dataframe\">\n",
       "  <thead>\n",
       "    <tr style=\"text-align: right;\">\n",
       "      <th></th>\n",
       "      <th>Entity</th>\n",
       "      <th>Code</th>\n",
       "      <th>Year</th>\n",
       "      <th>GDP per capita</th>\n",
       "    </tr>\n",
       "  </thead>\n",
       "  <tbody>\n",
       "    <tr>\n",
       "      <th>46</th>\n",
       "      <td>Afghanistan</td>\n",
       "      <td>AFG</td>\n",
       "      <td>1996</td>\n",
       "      <td>600.17530</td>\n",
       "    </tr>\n",
       "    <tr>\n",
       "      <th>50</th>\n",
       "      <td>Afghanistan</td>\n",
       "      <td>AFG</td>\n",
       "      <td>2000</td>\n",
       "      <td>502.37274</td>\n",
       "    </tr>\n",
       "    <tr>\n",
       "      <th>54</th>\n",
       "      <td>Afghanistan</td>\n",
       "      <td>AFG</td>\n",
       "      <td>2004</td>\n",
       "      <td>869.03925</td>\n",
       "    </tr>\n",
       "    <tr>\n",
       "      <th>58</th>\n",
       "      <td>Afghanistan</td>\n",
       "      <td>AFG</td>\n",
       "      <td>2008</td>\n",
       "      <td>1319.60740</td>\n",
       "    </tr>\n",
       "    <tr>\n",
       "      <th>62</th>\n",
       "      <td>Afghanistan</td>\n",
       "      <td>AFG</td>\n",
       "      <td>2012</td>\n",
       "      <td>1945.00000</td>\n",
       "    </tr>\n",
       "  </tbody>\n",
       "</table>\n",
       "</div>"
      ],
      "text/plain": [
       "         Entity Code  Year  GDP per capita\n",
       "46  Afghanistan  AFG  1996       600.17530\n",
       "50  Afghanistan  AFG  2000       502.37274\n",
       "54  Afghanistan  AFG  2004       869.03925\n",
       "58  Afghanistan  AFG  2008      1319.60740\n",
       "62  Afghanistan  AFG  2012      1945.00000"
      ]
     },
     "execution_count": 70,
     "metadata": {},
     "output_type": "execute_result"
    }
   ],
   "source": [
    "df.head()\n"
   ]
  },
  {
   "cell_type": "code",
   "execution_count": 72,
   "id": "457d79d0-581e-4e39-8ef2-f6c69d3a5829",
   "metadata": {},
   "outputs": [
    {
     "name": "stdout",
     "output_type": "stream",
     "text": [
      "<class 'pandas.core.frame.DataFrame'>\n",
      "Index: 1210 entries, 46 to 21583\n",
      "Data columns (total 4 columns):\n",
      " #   Column          Non-Null Count  Dtype  \n",
      "---  ------          --------------  -----  \n",
      " 0   Entity          1210 non-null   object \n",
      " 1   Code            1179 non-null   object \n",
      " 2   Year            1210 non-null   int64  \n",
      " 3   GDP per capita  1210 non-null   float64\n",
      "dtypes: float64(1), int64(1), object(2)\n",
      "memory usage: 47.3+ KB\n"
     ]
    }
   ],
   "source": [
    "df.info()\n"
   ]
  },
  {
   "cell_type": "code",
   "execution_count": 74,
   "id": "ebbab392-295b-43f7-86e6-de01b5eb703b",
   "metadata": {},
   "outputs": [
    {
     "data": {
      "text/plain": [
       "<bound method DataFrame.info of             Entity Code  Year  GDP per capita\n",
       "46     Afghanistan  AFG  1996       600.17530\n",
       "50     Afghanistan  AFG  2000       502.37274\n",
       "54     Afghanistan  AFG  2004       869.03925\n",
       "58     Afghanistan  AFG  2008      1319.60740\n",
       "62     Afghanistan  AFG  2012      1945.00000\n",
       "...            ...  ...   ...             ...\n",
       "21567     Zimbabwe  ZWE  2004      1604.50300\n",
       "21571     Zimbabwe  ZWE  2008      1197.52610\n",
       "21575     Zimbabwe  ZWE  2012      1749.85660\n",
       "21579     Zimbabwe  ZWE  2016      1782.83010\n",
       "21583     Zimbabwe  ZWE  2020      1585.97280\n",
       "\n",
       "[1179 rows x 4 columns]>"
      ]
     },
     "execution_count": 74,
     "metadata": {},
     "output_type": "execute_result"
    }
   ],
   "source": [
    "df = df.dropna(how=\"any\")\n",
    "df.count()\n",
    "df.info"
   ]
  },
  {
   "cell_type": "code",
   "execution_count": 76,
   "id": "077c2b6b-51f6-42e4-bd37-f85de918b74a",
   "metadata": {},
   "outputs": [
    {
     "name": "stdout",
     "output_type": "stream",
     "text": [
      "<class 'pandas.core.frame.DataFrame'>\n",
      "Index: 1179 entries, 46 to 21583\n",
      "Data columns (total 4 columns):\n",
      " #   Column          Non-Null Count  Dtype  \n",
      "---  ------          --------------  -----  \n",
      " 0   Entity          1179 non-null   object \n",
      " 1   Code            1179 non-null   object \n",
      " 2   Year            1179 non-null   int64  \n",
      " 3   GDP per capita  1179 non-null   float64\n",
      "dtypes: float64(1), int64(1), object(2)\n",
      "memory usage: 46.1+ KB\n"
     ]
    }
   ],
   "source": [
    "df.info()"
   ]
  },
  {
   "cell_type": "code",
   "execution_count": 78,
   "id": "57bd7f1a-f448-4882-af62-178539bd9930",
   "metadata": {},
   "outputs": [
    {
     "data": {
      "text/html": [
       "<div>\n",
       "<style scoped>\n",
       "    .dataframe tbody tr th:only-of-type {\n",
       "        vertical-align: middle;\n",
       "    }\n",
       "\n",
       "    .dataframe tbody tr th {\n",
       "        vertical-align: top;\n",
       "    }\n",
       "\n",
       "    .dataframe thead th {\n",
       "        text-align: right;\n",
       "    }\n",
       "</style>\n",
       "<table border=\"1\" class=\"dataframe\">\n",
       "  <thead>\n",
       "    <tr style=\"text-align: right;\">\n",
       "      <th></th>\n",
       "      <th></th>\n",
       "      <th>GDP per capita</th>\n",
       "    </tr>\n",
       "    <tr>\n",
       "      <th>Code</th>\n",
       "      <th>Year</th>\n",
       "      <th></th>\n",
       "    </tr>\n",
       "  </thead>\n",
       "  <tbody>\n",
       "    <tr>\n",
       "      <th rowspan=\"5\" valign=\"top\">AFG</th>\n",
       "      <th>1996</th>\n",
       "      <td>600.17530</td>\n",
       "    </tr>\n",
       "    <tr>\n",
       "      <th>2000</th>\n",
       "      <td>502.37274</td>\n",
       "    </tr>\n",
       "    <tr>\n",
       "      <th>2004</th>\n",
       "      <td>869.03925</td>\n",
       "    </tr>\n",
       "    <tr>\n",
       "      <th>2008</th>\n",
       "      <td>1319.60740</td>\n",
       "    </tr>\n",
       "    <tr>\n",
       "      <th>2012</th>\n",
       "      <td>1945.00000</td>\n",
       "    </tr>\n",
       "    <tr>\n",
       "      <th>...</th>\n",
       "      <th>...</th>\n",
       "      <td>...</td>\n",
       "    </tr>\n",
       "    <tr>\n",
       "      <th rowspan=\"5\" valign=\"top\">ZWE</th>\n",
       "      <th>2004</th>\n",
       "      <td>1604.50300</td>\n",
       "    </tr>\n",
       "    <tr>\n",
       "      <th>2008</th>\n",
       "      <td>1197.52610</td>\n",
       "    </tr>\n",
       "    <tr>\n",
       "      <th>2012</th>\n",
       "      <td>1749.85660</td>\n",
       "    </tr>\n",
       "    <tr>\n",
       "      <th>2016</th>\n",
       "      <td>1782.83010</td>\n",
       "    </tr>\n",
       "    <tr>\n",
       "      <th>2020</th>\n",
       "      <td>1585.97280</td>\n",
       "    </tr>\n",
       "  </tbody>\n",
       "</table>\n",
       "<p>1179 rows × 1 columns</p>\n",
       "</div>"
      ],
      "text/plain": [
       "           GDP per capita\n",
       "Code Year                \n",
       "AFG  1996       600.17530\n",
       "     2000       502.37274\n",
       "     2004       869.03925\n",
       "     2008      1319.60740\n",
       "     2012      1945.00000\n",
       "...                   ...\n",
       "ZWE  2004      1604.50300\n",
       "     2008      1197.52610\n",
       "     2012      1749.85660\n",
       "     2016      1782.83010\n",
       "     2020      1585.97280\n",
       "\n",
       "[1179 rows x 1 columns]"
      ]
     },
     "execution_count": 78,
     "metadata": {},
     "output_type": "execute_result"
    }
   ],
   "source": [
    "df1 = df.groupby(['Code', 'Year'])['GDP per capita'].sum()\n",
    "df1=pd.DataFrame(df1)\n",
    "df1"
   ]
  },
  {
   "cell_type": "code",
   "execution_count": 80,
   "id": "b869ff56-7e6f-423c-927b-5e6d10bc1d8b",
   "metadata": {},
   "outputs": [
    {
     "data": {
      "text/html": [
       "<div>\n",
       "<style scoped>\n",
       "    .dataframe tbody tr th:only-of-type {\n",
       "        vertical-align: middle;\n",
       "    }\n",
       "\n",
       "    .dataframe tbody tr th {\n",
       "        vertical-align: top;\n",
       "    }\n",
       "\n",
       "    .dataframe thead th {\n",
       "        text-align: right;\n",
       "    }\n",
       "</style>\n",
       "<table border=\"1\" class=\"dataframe\">\n",
       "  <thead>\n",
       "    <tr style=\"text-align: right;\">\n",
       "      <th></th>\n",
       "      <th></th>\n",
       "      <th>total</th>\n",
       "      <th>share</th>\n",
       "    </tr>\n",
       "    <tr>\n",
       "      <th>Code</th>\n",
       "      <th>Year</th>\n",
       "      <th></th>\n",
       "      <th></th>\n",
       "    </tr>\n",
       "  </thead>\n",
       "  <tbody>\n",
       "    <tr>\n",
       "      <th rowspan=\"2\" valign=\"top\">AFG</th>\n",
       "      <th>2008</th>\n",
       "      <td>1</td>\n",
       "      <td>0.001044</td>\n",
       "    </tr>\n",
       "    <tr>\n",
       "      <th>2012</th>\n",
       "      <td>1</td>\n",
       "      <td>0.001042</td>\n",
       "    </tr>\n",
       "    <tr>\n",
       "      <th rowspan=\"3\" valign=\"top\">ALG</th>\n",
       "      <th>1996</th>\n",
       "      <td>3</td>\n",
       "      <td>0.003563</td>\n",
       "    </tr>\n",
       "    <tr>\n",
       "      <th>2000</th>\n",
       "      <td>5</td>\n",
       "      <td>0.005394</td>\n",
       "    </tr>\n",
       "    <tr>\n",
       "      <th>2008</th>\n",
       "      <td>2</td>\n",
       "      <td>0.002088</td>\n",
       "    </tr>\n",
       "    <tr>\n",
       "      <th>...</th>\n",
       "      <th>...</th>\n",
       "      <td>...</td>\n",
       "      <td>...</td>\n",
       "    </tr>\n",
       "    <tr>\n",
       "      <th rowspan=\"2\" valign=\"top\">VIE</th>\n",
       "      <th>2012</th>\n",
       "      <td>1</td>\n",
       "      <td>0.001042</td>\n",
       "    </tr>\n",
       "    <tr>\n",
       "      <th>2016</th>\n",
       "      <td>2</td>\n",
       "      <td>0.002058</td>\n",
       "    </tr>\n",
       "    <tr>\n",
       "      <th>ZAM</th>\n",
       "      <th>1996</th>\n",
       "      <td>1</td>\n",
       "      <td>0.001188</td>\n",
       "    </tr>\n",
       "    <tr>\n",
       "      <th rowspan=\"2\" valign=\"top\">ZIM</th>\n",
       "      <th>2004</th>\n",
       "      <td>3</td>\n",
       "      <td>0.003240</td>\n",
       "    </tr>\n",
       "    <tr>\n",
       "      <th>2008</th>\n",
       "      <td>4</td>\n",
       "      <td>0.004175</td>\n",
       "    </tr>\n",
       "  </tbody>\n",
       "</table>\n",
       "<p>585 rows × 2 columns</p>\n",
       "</div>"
      ],
      "text/plain": [
       "           total     share\n",
       "Code Year                 \n",
       "AFG  2008      1  0.001044\n",
       "     2012      1  0.001042\n",
       "ALG  1996      3  0.003563\n",
       "     2000      5  0.005394\n",
       "     2008      2  0.002088\n",
       "...          ...       ...\n",
       "VIE  2012      1  0.001042\n",
       "     2016      2  0.002058\n",
       "ZAM  1996      1  0.001188\n",
       "ZIM  2004      3  0.003240\n",
       "     2008      4  0.004175\n",
       "\n",
       "[585 rows x 2 columns]"
      ]
     },
     "execution_count": 80,
     "metadata": {},
     "output_type": "execute_result"
    }
   ],
   "source": [
    "final_df=final_df.reset_index()\n",
    "final_df= final_df.rename(columns = {'country_noc':'Code', 'year':'Year'})\n",
    "dfM = final_df.groupby(['Code', 'Year'])[['total', 'share']].sum()\n",
    "dfM\n"
   ]
  },
  {
   "cell_type": "code",
   "execution_count": 82,
   "id": "4e2d96e1-b88a-4df7-940f-f3c37e9ee7fc",
   "metadata": {},
   "outputs": [
    {
     "data": {
      "text/html": [
       "<div>\n",
       "<style scoped>\n",
       "    .dataframe tbody tr th:only-of-type {\n",
       "        vertical-align: middle;\n",
       "    }\n",
       "\n",
       "    .dataframe tbody tr th {\n",
       "        vertical-align: top;\n",
       "    }\n",
       "\n",
       "    .dataframe thead th {\n",
       "        text-align: right;\n",
       "    }\n",
       "</style>\n",
       "<table border=\"1\" class=\"dataframe\">\n",
       "  <thead>\n",
       "    <tr style=\"text-align: right;\">\n",
       "      <th></th>\n",
       "      <th></th>\n",
       "      <th>total</th>\n",
       "      <th>share</th>\n",
       "      <th>GDP per capita</th>\n",
       "    </tr>\n",
       "    <tr>\n",
       "      <th>Code</th>\n",
       "      <th>Year</th>\n",
       "      <th></th>\n",
       "      <th></th>\n",
       "      <th></th>\n",
       "    </tr>\n",
       "  </thead>\n",
       "  <tbody>\n",
       "    <tr>\n",
       "      <th rowspan=\"2\" valign=\"top\">AFG</th>\n",
       "      <th>2008</th>\n",
       "      <td>1</td>\n",
       "      <td>0.001044</td>\n",
       "      <td>1319.6074</td>\n",
       "    </tr>\n",
       "    <tr>\n",
       "      <th>2012</th>\n",
       "      <td>1</td>\n",
       "      <td>0.001042</td>\n",
       "      <td>1945.0000</td>\n",
       "    </tr>\n",
       "    <tr>\n",
       "      <th rowspan=\"3\" valign=\"top\">ARG</th>\n",
       "      <th>1996</th>\n",
       "      <td>3</td>\n",
       "      <td>0.003563</td>\n",
       "      <td>13715.2270</td>\n",
       "    </tr>\n",
       "    <tr>\n",
       "      <th>2000</th>\n",
       "      <td>4</td>\n",
       "      <td>0.004315</td>\n",
       "      <td>14368.9420</td>\n",
       "    </tr>\n",
       "    <tr>\n",
       "      <th>2004</th>\n",
       "      <td>6</td>\n",
       "      <td>0.006479</td>\n",
       "      <td>14183.2260</td>\n",
       "    </tr>\n",
       "    <tr>\n",
       "      <th>...</th>\n",
       "      <th>...</th>\n",
       "      <td>...</td>\n",
       "      <td>...</td>\n",
       "      <td>...</td>\n",
       "    </tr>\n",
       "    <tr>\n",
       "      <th rowspan=\"5\" valign=\"top\">VEN</th>\n",
       "      <th>2004</th>\n",
       "      <td>2</td>\n",
       "      <td>0.002160</td>\n",
       "      <td>13713.0450</td>\n",
       "    </tr>\n",
       "    <tr>\n",
       "      <th>2008</th>\n",
       "      <td>1</td>\n",
       "      <td>0.001044</td>\n",
       "      <td>18019.0900</td>\n",
       "    </tr>\n",
       "    <tr>\n",
       "      <th>2012</th>\n",
       "      <td>1</td>\n",
       "      <td>0.001042</td>\n",
       "      <td>18486.4590</td>\n",
       "    </tr>\n",
       "    <tr>\n",
       "      <th>2016</th>\n",
       "      <td>3</td>\n",
       "      <td>0.003086</td>\n",
       "      <td>13428.7890</td>\n",
       "    </tr>\n",
       "    <tr>\n",
       "      <th>2020</th>\n",
       "      <td>4</td>\n",
       "      <td>0.003704</td>\n",
       "      <td>4952.5300</td>\n",
       "    </tr>\n",
       "  </tbody>\n",
       "</table>\n",
       "<p>400 rows × 3 columns</p>\n",
       "</div>"
      ],
      "text/plain": [
       "           total     share  GDP per capita\n",
       "Code Year                                 \n",
       "AFG  2008      1  0.001044       1319.6074\n",
       "     2012      1  0.001042       1945.0000\n",
       "ARG  1996      3  0.003563      13715.2270\n",
       "     2000      4  0.004315      14368.9420\n",
       "     2004      6  0.006479      14183.2260\n",
       "...          ...       ...             ...\n",
       "VEN  2004      2  0.002160      13713.0450\n",
       "     2008      1  0.001044      18019.0900\n",
       "     2012      1  0.001042      18486.4590\n",
       "     2016      3  0.003086      13428.7890\n",
       "     2020      4  0.003704       4952.5300\n",
       "\n",
       "[400 rows x 3 columns]"
      ]
     },
     "execution_count": 82,
     "metadata": {},
     "output_type": "execute_result"
    }
   ],
   "source": [
    "# df1.merge(dfM,left_index=True, right_on= ['Code','Year'])\n",
    "dfM_merged = dfM.merge(df1,left_index=True, right_on= ['Code','Year'])\n",
    "dfM_merged"
   ]
  },
  {
   "cell_type": "code",
   "execution_count": 84,
   "id": "11a094e8-bd68-42d7-ad77-e06d95a8da00",
   "metadata": {},
   "outputs": [
    {
     "data": {
      "text/html": [
       "<div>\n",
       "<style scoped>\n",
       "    .dataframe tbody tr th:only-of-type {\n",
       "        vertical-align: middle;\n",
       "    }\n",
       "\n",
       "    .dataframe tbody tr th {\n",
       "        vertical-align: top;\n",
       "    }\n",
       "\n",
       "    .dataframe thead th {\n",
       "        text-align: right;\n",
       "    }\n",
       "</style>\n",
       "<table border=\"1\" class=\"dataframe\">\n",
       "  <thead>\n",
       "    <tr style=\"text-align: right;\">\n",
       "      <th></th>\n",
       "      <th>total</th>\n",
       "      <th>share</th>\n",
       "      <th>GDP per capita</th>\n",
       "    </tr>\n",
       "  </thead>\n",
       "  <tbody>\n",
       "    <tr>\n",
       "      <th>total</th>\n",
       "      <td>1.000000</td>\n",
       "      <td>0.996868</td>\n",
       "      <td>0.189942</td>\n",
       "    </tr>\n",
       "    <tr>\n",
       "      <th>share</th>\n",
       "      <td>0.996868</td>\n",
       "      <td>1.000000</td>\n",
       "      <td>0.181677</td>\n",
       "    </tr>\n",
       "    <tr>\n",
       "      <th>GDP per capita</th>\n",
       "      <td>0.189942</td>\n",
       "      <td>0.181677</td>\n",
       "      <td>1.000000</td>\n",
       "    </tr>\n",
       "  </tbody>\n",
       "</table>\n",
       "</div>"
      ],
      "text/plain": [
       "                   total     share  GDP per capita\n",
       "total           1.000000  0.996868        0.189942\n",
       "share           0.996868  1.000000        0.181677\n",
       "GDP per capita  0.189942  0.181677        1.000000"
      ]
     },
     "execution_count": 84,
     "metadata": {},
     "output_type": "execute_result"
    }
   ],
   "source": [
    "\n",
    "\n",
    "dfM_merged.corr()"
   ]
  },
  {
   "cell_type": "code",
   "execution_count": 86,
   "id": "a3980892-98a0-4188-85e7-8d523297a1cb",
   "metadata": {},
   "outputs": [
    {
     "data": {
      "text/html": [
       "<div>\n",
       "<style scoped>\n",
       "    .dataframe tbody tr th:only-of-type {\n",
       "        vertical-align: middle;\n",
       "    }\n",
       "\n",
       "    .dataframe tbody tr th {\n",
       "        vertical-align: top;\n",
       "    }\n",
       "\n",
       "    .dataframe thead th {\n",
       "        text-align: right;\n",
       "    }\n",
       "</style>\n",
       "<table border=\"1\" class=\"dataframe\">\n",
       "  <thead>\n",
       "    <tr style=\"text-align: right;\">\n",
       "      <th></th>\n",
       "      <th>total</th>\n",
       "      <th>share</th>\n",
       "      <th>GDP per capita</th>\n",
       "    </tr>\n",
       "    <tr>\n",
       "      <th>Year</th>\n",
       "      <th></th>\n",
       "      <th></th>\n",
       "      <th></th>\n",
       "    </tr>\n",
       "  </thead>\n",
       "  <tbody>\n",
       "    <tr>\n",
       "      <th>1996</th>\n",
       "      <td>101</td>\n",
       "      <td>0.119952</td>\n",
       "      <td>40412.750</td>\n",
       "    </tr>\n",
       "    <tr>\n",
       "      <th>2000</th>\n",
       "      <td>93</td>\n",
       "      <td>0.100324</td>\n",
       "      <td>45886.470</td>\n",
       "    </tr>\n",
       "    <tr>\n",
       "      <th>2004</th>\n",
       "      <td>101</td>\n",
       "      <td>0.109071</td>\n",
       "      <td>48492.720</td>\n",
       "    </tr>\n",
       "    <tr>\n",
       "      <th>2008</th>\n",
       "      <td>112</td>\n",
       "      <td>0.116910</td>\n",
       "      <td>50275.746</td>\n",
       "    </tr>\n",
       "    <tr>\n",
       "      <th>2012</th>\n",
       "      <td>104</td>\n",
       "      <td>0.108333</td>\n",
       "      <td>50436.434</td>\n",
       "    </tr>\n",
       "    <tr>\n",
       "      <th>2016</th>\n",
       "      <td>121</td>\n",
       "      <td>0.124486</td>\n",
       "      <td>53301.016</td>\n",
       "    </tr>\n",
       "    <tr>\n",
       "      <th>2020</th>\n",
       "      <td>113</td>\n",
       "      <td>0.104630</td>\n",
       "      <td>54379.207</td>\n",
       "    </tr>\n",
       "  </tbody>\n",
       "</table>\n",
       "</div>"
      ],
      "text/plain": [
       "      total     share  GDP per capita\n",
       "Year                                 \n",
       "1996    101  0.119952       40412.750\n",
       "2000     93  0.100324       45886.470\n",
       "2004    101  0.109071       48492.720\n",
       "2008    112  0.116910       50275.746\n",
       "2012    104  0.108333       50436.434\n",
       "2016    121  0.124486       53301.016\n",
       "2020    113  0.104630       54379.207"
      ]
     },
     "execution_count": 86,
     "metadata": {},
     "output_type": "execute_result"
    }
   ],
   "source": [
    "dfM_merged.loc['USA']"
   ]
  },
  {
   "cell_type": "code",
   "execution_count": 88,
   "id": "5928c777-c41e-4123-be24-c341d02e3316",
   "metadata": {},
   "outputs": [
    {
     "data": {
      "text/html": [
       "<div>\n",
       "<style scoped>\n",
       "    .dataframe tbody tr th:only-of-type {\n",
       "        vertical-align: middle;\n",
       "    }\n",
       "\n",
       "    .dataframe tbody tr th {\n",
       "        vertical-align: top;\n",
       "    }\n",
       "\n",
       "    .dataframe thead th {\n",
       "        text-align: right;\n",
       "    }\n",
       "</style>\n",
       "<table border=\"1\" class=\"dataframe\">\n",
       "  <thead>\n",
       "    <tr style=\"text-align: right;\">\n",
       "      <th></th>\n",
       "      <th></th>\n",
       "      <th>total</th>\n",
       "      <th>share</th>\n",
       "      <th>GDP per capita</th>\n",
       "    </tr>\n",
       "    <tr>\n",
       "      <th>Code</th>\n",
       "      <th>Year</th>\n",
       "      <th></th>\n",
       "      <th></th>\n",
       "      <th></th>\n",
       "    </tr>\n",
       "  </thead>\n",
       "  <tbody>\n",
       "    <tr>\n",
       "      <th rowspan=\"4\" valign=\"top\">NOR</th>\n",
       "      <th>2008</th>\n",
       "      <td>9</td>\n",
       "      <td>0.009395</td>\n",
       "      <td>76522.060</td>\n",
       "    </tr>\n",
       "    <tr>\n",
       "      <th>2012</th>\n",
       "      <td>4</td>\n",
       "      <td>0.004167</td>\n",
       "      <td>81725.220</td>\n",
       "    </tr>\n",
       "    <tr>\n",
       "      <th>2016</th>\n",
       "      <td>4</td>\n",
       "      <td>0.004115</td>\n",
       "      <td>83213.016</td>\n",
       "    </tr>\n",
       "    <tr>\n",
       "      <th>2020</th>\n",
       "      <td>8</td>\n",
       "      <td>0.007407</td>\n",
       "      <td>83543.100</td>\n",
       "    </tr>\n",
       "    <tr>\n",
       "      <th rowspan=\"3\" valign=\"top\">QAT</th>\n",
       "      <th>2012</th>\n",
       "      <td>2</td>\n",
       "      <td>0.002083</td>\n",
       "      <td>154339.810</td>\n",
       "    </tr>\n",
       "    <tr>\n",
       "      <th>2016</th>\n",
       "      <td>1</td>\n",
       "      <td>0.001029</td>\n",
       "      <td>160051.230</td>\n",
       "    </tr>\n",
       "    <tr>\n",
       "      <th>2020</th>\n",
       "      <td>3</td>\n",
       "      <td>0.002778</td>\n",
       "      <td>143118.530</td>\n",
       "    </tr>\n",
       "  </tbody>\n",
       "</table>\n",
       "</div>"
      ],
      "text/plain": [
       "           total     share  GDP per capita\n",
       "Code Year                                 \n",
       "NOR  2008      9  0.009395       76522.060\n",
       "     2012      4  0.004167       81725.220\n",
       "     2016      4  0.004115       83213.016\n",
       "     2020      8  0.007407       83543.100\n",
       "QAT  2012      2  0.002083      154339.810\n",
       "     2016      1  0.001029      160051.230\n",
       "     2020      3  0.002778      143118.530"
      ]
     },
     "execution_count": 88,
     "metadata": {},
     "output_type": "execute_result"
    }
   ],
   "source": [
    "dfM_merged.loc[dfM_merged['GDP per capita']  > 70000]"
   ]
  },
  {
   "cell_type": "code",
   "execution_count": 90,
   "id": "31e221b9-9634-4992-ac30-572594e706a5",
   "metadata": {},
   "outputs": [],
   "source": [
    "from sklearn.model_selection import train_test_split\n",
    "from sklearn.linear_model import LinearRegression\n",
    "from sklearn.metrics import mean_squared_error\n",
    "import matplotlib.pyplot as plt"
   ]
  },
  {
   "cell_type": "code",
   "execution_count": 91,
   "id": "eeb2ca41-6e6c-4d3e-8a5b-1d07b9943188",
   "metadata": {},
   "outputs": [],
   "source": [
    "X = np.array(dfM_merged['GDP per capita']).reshape(-1,1)\n",
    "y = np.array(dfM_merged['total']).reshape(-1,1)"
   ]
  },
  {
   "cell_type": "code",
   "execution_count": 94,
   "id": "ea150dc3-5c56-48a1-bbd4-58129879763e",
   "metadata": {},
   "outputs": [],
   "source": [
    "X_train, X_test, y_train, y_test = train_test_split(X, y, test_size=0.2, random_state=42)"
   ]
  },
  {
   "cell_type": "code",
   "execution_count": 96,
   "id": "536c5337-e257-455d-bd9b-b746e69bada6",
   "metadata": {},
   "outputs": [
    {
     "data": {
      "text/html": [
       "<style>#sk-container-id-1 {color: black;background-color: white;}#sk-container-id-1 pre{padding: 0;}#sk-container-id-1 div.sk-toggleable {background-color: white;}#sk-container-id-1 label.sk-toggleable__label {cursor: pointer;display: block;width: 100%;margin-bottom: 0;padding: 0.3em;box-sizing: border-box;text-align: center;}#sk-container-id-1 label.sk-toggleable__label-arrow:before {content: \"▸\";float: left;margin-right: 0.25em;color: #696969;}#sk-container-id-1 label.sk-toggleable__label-arrow:hover:before {color: black;}#sk-container-id-1 div.sk-estimator:hover label.sk-toggleable__label-arrow:before {color: black;}#sk-container-id-1 div.sk-toggleable__content {max-height: 0;max-width: 0;overflow: hidden;text-align: left;background-color: #f0f8ff;}#sk-container-id-1 div.sk-toggleable__content pre {margin: 0.2em;color: black;border-radius: 0.25em;background-color: #f0f8ff;}#sk-container-id-1 input.sk-toggleable__control:checked~div.sk-toggleable__content {max-height: 200px;max-width: 100%;overflow: auto;}#sk-container-id-1 input.sk-toggleable__control:checked~label.sk-toggleable__label-arrow:before {content: \"▾\";}#sk-container-id-1 div.sk-estimator input.sk-toggleable__control:checked~label.sk-toggleable__label {background-color: #d4ebff;}#sk-container-id-1 div.sk-label input.sk-toggleable__control:checked~label.sk-toggleable__label {background-color: #d4ebff;}#sk-container-id-1 input.sk-hidden--visually {border: 0;clip: rect(1px 1px 1px 1px);clip: rect(1px, 1px, 1px, 1px);height: 1px;margin: -1px;overflow: hidden;padding: 0;position: absolute;width: 1px;}#sk-container-id-1 div.sk-estimator {font-family: monospace;background-color: #f0f8ff;border: 1px dotted black;border-radius: 0.25em;box-sizing: border-box;margin-bottom: 0.5em;}#sk-container-id-1 div.sk-estimator:hover {background-color: #d4ebff;}#sk-container-id-1 div.sk-parallel-item::after {content: \"\";width: 100%;border-bottom: 1px solid gray;flex-grow: 1;}#sk-container-id-1 div.sk-label:hover label.sk-toggleable__label {background-color: #d4ebff;}#sk-container-id-1 div.sk-serial::before {content: \"\";position: absolute;border-left: 1px solid gray;box-sizing: border-box;top: 0;bottom: 0;left: 50%;z-index: 0;}#sk-container-id-1 div.sk-serial {display: flex;flex-direction: column;align-items: center;background-color: white;padding-right: 0.2em;padding-left: 0.2em;position: relative;}#sk-container-id-1 div.sk-item {position: relative;z-index: 1;}#sk-container-id-1 div.sk-parallel {display: flex;align-items: stretch;justify-content: center;background-color: white;position: relative;}#sk-container-id-1 div.sk-item::before, #sk-container-id-1 div.sk-parallel-item::before {content: \"\";position: absolute;border-left: 1px solid gray;box-sizing: border-box;top: 0;bottom: 0;left: 50%;z-index: -1;}#sk-container-id-1 div.sk-parallel-item {display: flex;flex-direction: column;z-index: 1;position: relative;background-color: white;}#sk-container-id-1 div.sk-parallel-item:first-child::after {align-self: flex-end;width: 50%;}#sk-container-id-1 div.sk-parallel-item:last-child::after {align-self: flex-start;width: 50%;}#sk-container-id-1 div.sk-parallel-item:only-child::after {width: 0;}#sk-container-id-1 div.sk-dashed-wrapped {border: 1px dashed gray;margin: 0 0.4em 0.5em 0.4em;box-sizing: border-box;padding-bottom: 0.4em;background-color: white;}#sk-container-id-1 div.sk-label label {font-family: monospace;font-weight: bold;display: inline-block;line-height: 1.2em;}#sk-container-id-1 div.sk-label-container {text-align: center;}#sk-container-id-1 div.sk-container {/* jupyter's `normalize.less` sets `[hidden] { display: none; }` but bootstrap.min.css set `[hidden] { display: none !important; }` so we also need the `!important` here to be able to override the default hidden behavior on the sphinx rendered scikit-learn.org. See: https://github.com/scikit-learn/scikit-learn/issues/21755 */display: inline-block !important;position: relative;}#sk-container-id-1 div.sk-text-repr-fallback {display: none;}</style><div id=\"sk-container-id-1\" class=\"sk-top-container\"><div class=\"sk-text-repr-fallback\"><pre>LinearRegression()</pre><b>In a Jupyter environment, please rerun this cell to show the HTML representation or trust the notebook. <br />On GitHub, the HTML representation is unable to render, please try loading this page with nbviewer.org.</b></div><div class=\"sk-container\" hidden><div class=\"sk-item\"><div class=\"sk-estimator sk-toggleable\"><input class=\"sk-toggleable__control sk-hidden--visually\" id=\"sk-estimator-id-1\" type=\"checkbox\" checked><label for=\"sk-estimator-id-1\" class=\"sk-toggleable__label sk-toggleable__label-arrow\">LinearRegression</label><div class=\"sk-toggleable__content\"><pre>LinearRegression()</pre></div></div></div></div></div>"
      ],
      "text/plain": [
       "LinearRegression()"
      ]
     },
     "execution_count": 96,
     "metadata": {},
     "output_type": "execute_result"
    }
   ],
   "source": [
    "model = LinearRegression()\n",
    "model.fit(X_train, y_train)"
   ]
  },
  {
   "cell_type": "code",
   "execution_count": 98,
   "id": "0a7650cc-afe5-4605-b87c-b0d06c3a187e",
   "metadata": {},
   "outputs": [],
   "source": [
    "y_pred = model.predict(X_test)"
   ]
  },
  {
   "cell_type": "code",
   "execution_count": 100,
   "id": "f8100302-3779-4788-83a6-b3d429521ae6",
   "metadata": {},
   "outputs": [
    {
     "name": "stdout",
     "output_type": "stream",
     "text": [
      "Mean Squared Error: 422.7473595015359\n"
     ]
    }
   ],
   "source": [
    "mse = mean_squared_error(y_test, y_pred)\n",
    "print(f'Mean Squared Error: {mse}')"
   ]
  },
  {
   "cell_type": "code",
   "execution_count": 102,
   "id": "b84c58e3-6a36-4e1f-afc1-f08864f024da",
   "metadata": {},
   "outputs": [
    {
     "data": {
      "image/png": "[encoded data removed]",
      "text/plain": [
       "<Figure size 640x480 with 1 Axes>"
      ]
     },
     "metadata": {},
     "output_type": "display_data"
    }
   ],
   "source": [
    "plt.scatter(y_test, y_pred)\n",
    "plt.xlabel('Actual Medal Counts')\n",
    "plt.ylabel('Predicted Medal Counts')\n",
    "plt.title('Actual vs Predicted Medal Counts')\n",
    "plt.show()"
   ]
  },
  {
   "cell_type": "code",
   "execution_count": 104,
   "id": "6550b595-8c3a-47e3-b356-0819177d163b",
   "metadata": {},
   "outputs": [
    {
     "data": {
      "image/png": "[encoded data removed]",
      "text/plain": [
       "<Figure size 640x480 with 1 Axes>"
      ]
     },
     "metadata": {},
     "output_type": "display_data"
    }
   ],
   "source": [
    "plt.scatter(X_test, y_test, color='b')\n",
    "plt.plot(X_test, y_pred, color='k')\n",
    "plt.show()"
   ]
  },
  {
   "cell_type": "code",
   "execution_count": null,
   "id": "8b0cb9ab-6f17-460b-a791-c52f5c3842d1",
   "metadata": {},
   "outputs": [],
   "source": []
  },
  {
   "cell_type": "code",
   "execution_count": null,
   "id": "37b866da-7abe-4a82-9994-fe177c9f9087",
   "metadata": {},
   "outputs": [],
   "source": []
  }
 ],
 "metadata": {
  "kernelspec": {
   "display_name": "Python 3 (ipykernel)",
   "language": "python",
   "name": "python3"
  },
  "language_info": {
   "codemirror_mode": {
    "name": "ipython",
    "version": 3
   },
   "file_extension": ".py",
   "mimetype": "text/x-python",
   "name": "python",
   "nbconvert_exporter": "python",
   "pygments_lexer": "ipython3",
   "version": "3.11.7"
  }
 },
 "nbformat": 4,
 "nbformat_minor": 5
}
