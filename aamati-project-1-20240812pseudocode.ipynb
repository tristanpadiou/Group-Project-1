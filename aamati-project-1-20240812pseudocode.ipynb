{
 "cells": [
  {
   "cell_type": "code",
   "execution_count": 2,
   "id": "406cd265-295e-4afd-84cb-ef1783e1be80",
   "metadata": {},
   "outputs": [],
   "source": [
    "# import pandas as pd\n",
    "# import numpy as np\n",
    "\n",
    "# tally total medals by country by event\n",
    "# split data summer/winter\n",
    "# Index by Country, columns by olymics\n",
    "# Medals_Summer = {\n",
    "#    'Country': ['USA', 'China', 'France', '...'],\n",
    "#    'Medals_1996': [1, 2, 3, ...],\n",
    "#    'Medals_2000': [1, 2, 3, ...],\n",
    "#    'Medals_2004': [1, 2, 3, ...],        ......\n",
    "#    'Medals_2008': [1, 2, 3, ...],\n",
    "#    'Medals_2012': [1, 2, 3, ...],\n",
    "#    'Medals_2016': [4, 5, 6, ...],\n",
    "#    'Medals_2020': [3, 3, 1, ...],\n",
    "#}\n",
    "\n",
    "# df = pd.DataFrame(Medals_Summer)\n",
    "# from sklearn.linear_model import LinearRegression\n",
    "\n",
    "# X = df[['Medals_1996','Medals_2000', 'Medals_2004', 'Medals_2008','Medals_2012', 'Medals_2016', 'Medals_2020']]\n",
    "# Y = target variable (2024 medal count)\n",
    "# y = df['Predict_2024']\n",
    "\n",
    "# model = LinearRegression()\n",
    "# model.fit(X, y)\n",
    "\n",
    "# prediction = model.predict(X)\n",
    "\n",
    "# add prediction to the DataFrame\n",
    "# df['Prediction__2024'] = predicted_medals\n",
    "\n",
    "# Print the results\n",
    "# print(df[['Country', 'Prediction_2024']])\n"
   ]
  },
  {
   "cell_type": "code",
   "execution_count": 4,
   "id": "e9bb2aeb-97f3-4bb7-a8d7-0334461bff79",
   "metadata": {},
   "outputs": [],
   "source": [
    "import pandas as pd\n",
    "import numpy as np"
   ]
  },
  {
   "cell_type": "code",
   "execution_count": 6,
   "id": "3f1b8e44-c3f3-4930-ae24-21cfd74cc1f6",
   "metadata": {},
   "outputs": [],
   "source": [
    "Medals_tally = pd.read_csv('Olympic_Games_Medal_Tally.csv')"
   ]
  },
  {
   "cell_type": "code",
   "execution_count": 10,
   "id": "7d2649bd-86de-4bd0-a54b-8b702208a66a",
   "metadata": {},
   "outputs": [
    {
     "data": {
      "text/html": [
       "<div>\n",
       "<style scoped>\n",
       "    .dataframe tbody tr th:only-of-type {\n",
       "        vertical-align: middle;\n",
       "    }\n",
       "\n",
       "    .dataframe tbody tr th {\n",
       "        vertical-align: top;\n",
       "    }\n",
       "\n",
       "    .dataframe thead th {\n",
       "        text-align: right;\n",
       "    }\n",
       "</style>\n",
       "<table border=\"1\" class=\"dataframe\">\n",
       "  <thead>\n",
       "    <tr style=\"text-align: right;\">\n",
       "      <th></th>\n",
       "      <th>edition</th>\n",
       "      <th>edition_id</th>\n",
       "      <th>year</th>\n",
       "      <th>country</th>\n",
       "      <th>country_noc</th>\n",
       "      <th>gold</th>\n",
       "      <th>silver</th>\n",
       "      <th>bronze</th>\n",
       "      <th>total</th>\n",
       "    </tr>\n",
       "  </thead>\n",
       "  <tbody>\n",
       "    <tr>\n",
       "      <th>1805</th>\n",
       "      <td>1906 Intercalated</td>\n",
       "      <td>4</td>\n",
       "      <td>1906</td>\n",
       "      <td>Australia</td>\n",
       "      <td>AUS</td>\n",
       "      <td>0</td>\n",
       "      <td>0</td>\n",
       "      <td>3</td>\n",
       "      <td>3</td>\n",
       "    </tr>\n",
       "    <tr>\n",
       "      <th>1806</th>\n",
       "      <td>1906 Intercalated</td>\n",
       "      <td>4</td>\n",
       "      <td>1906</td>\n",
       "      <td>Bohemia</td>\n",
       "      <td>BOH</td>\n",
       "      <td>0</td>\n",
       "      <td>0</td>\n",
       "      <td>2</td>\n",
       "      <td>2</td>\n",
       "    </tr>\n",
       "  </tbody>\n",
       "</table>\n",
       "</div>"
      ],
      "text/plain": [
       "                edition  edition_id  year    country country_noc  gold  \\\n",
       "1805  1906 Intercalated           4  1906  Australia         AUS     0   \n",
       "1806  1906 Intercalated           4  1906    Bohemia         BOH     0   \n",
       "\n",
       "      silver  bronze  total  \n",
       "1805       0       3      3  \n",
       "1806       0       2      2  "
      ]
     },
     "execution_count": 10,
     "metadata": {},
     "output_type": "execute_result"
    }
   ],
   "source": [
    "Medals_tally.tail(2)"
   ]
  },
  {
   "cell_type": "code",
   "execution_count": 12,
   "id": "4ea59027-6d80-416c-8949-b2fa867a81f5",
   "metadata": {},
   "outputs": [],
   "source": [
    "Medals_tally[['edy', 'eds']] = Medals_tally['edition'].str.split(' ', n=1, expand=True)"
   ]
  },
  {
   "cell_type": "code",
   "execution_count": 14,
   "id": "79d58305-7329-489f-a3b9-1aeef04652b0",
   "metadata": {},
   "outputs": [
    {
     "data": {
      "text/html": [
       "<div>\n",
       "<style scoped>\n",
       "    .dataframe tbody tr th:only-of-type {\n",
       "        vertical-align: middle;\n",
       "    }\n",
       "\n",
       "    .dataframe tbody tr th {\n",
       "        vertical-align: top;\n",
       "    }\n",
       "\n",
       "    .dataframe thead th {\n",
       "        text-align: right;\n",
       "    }\n",
       "</style>\n",
       "<table border=\"1\" class=\"dataframe\">\n",
       "  <thead>\n",
       "    <tr style=\"text-align: right;\">\n",
       "      <th></th>\n",
       "      <th>edition</th>\n",
       "      <th>edition_id</th>\n",
       "      <th>year</th>\n",
       "      <th>country</th>\n",
       "      <th>country_noc</th>\n",
       "      <th>gold</th>\n",
       "      <th>silver</th>\n",
       "      <th>bronze</th>\n",
       "      <th>total</th>\n",
       "      <th>edy</th>\n",
       "      <th>eds</th>\n",
       "    </tr>\n",
       "  </thead>\n",
       "  <tbody>\n",
       "    <tr>\n",
       "      <th>1805</th>\n",
       "      <td>1906 Intercalated</td>\n",
       "      <td>4</td>\n",
       "      <td>1906</td>\n",
       "      <td>Australia</td>\n",
       "      <td>AUS</td>\n",
       "      <td>0</td>\n",
       "      <td>0</td>\n",
       "      <td>3</td>\n",
       "      <td>3</td>\n",
       "      <td>1906</td>\n",
       "      <td>Intercalated</td>\n",
       "    </tr>\n",
       "    <tr>\n",
       "      <th>1806</th>\n",
       "      <td>1906 Intercalated</td>\n",
       "      <td>4</td>\n",
       "      <td>1906</td>\n",
       "      <td>Bohemia</td>\n",
       "      <td>BOH</td>\n",
       "      <td>0</td>\n",
       "      <td>0</td>\n",
       "      <td>2</td>\n",
       "      <td>2</td>\n",
       "      <td>1906</td>\n",
       "      <td>Intercalated</td>\n",
       "    </tr>\n",
       "  </tbody>\n",
       "</table>\n",
       "</div>"
      ],
      "text/plain": [
       "                edition  edition_id  year    country country_noc  gold  \\\n",
       "1805  1906 Intercalated           4  1906  Australia         AUS     0   \n",
       "1806  1906 Intercalated           4  1906    Bohemia         BOH     0   \n",
       "\n",
       "      silver  bronze  total   edy           eds  \n",
       "1805       0       3      3  1906  Intercalated  \n",
       "1806       0       2      2  1906  Intercalated  "
      ]
     },
     "execution_count": 14,
     "metadata": {},
     "output_type": "execute_result"
    }
   ],
   "source": [
    "Medals_tally.tail(2)"
   ]
  },
  {
   "cell_type": "code",
   "execution_count": 16,
   "id": "b26b6137-80b1-49a8-9387-83e688d8c616",
   "metadata": {},
   "outputs": [],
   "source": [
    "df = Medals_tally"
   ]
  },
  {
   "cell_type": "code",
   "execution_count": 18,
   "id": "fd12c0f9-459c-4f24-87e4-7b437dc406e1",
   "metadata": {},
   "outputs": [],
   "source": [
    "df = df.drop(df.columns[[0, 1, 3, 5,6,7,9]], axis=1) "
   ]
  },
  {
   "cell_type": "code",
   "execution_count": 20,
   "id": "a7fdddbe-4d01-42b1-8938-a92f3dca0c3d",
   "metadata": {},
   "outputs": [
    {
     "data": {
      "text/html": [
       "<div>\n",
       "<style scoped>\n",
       "    .dataframe tbody tr th:only-of-type {\n",
       "        vertical-align: middle;\n",
       "    }\n",
       "\n",
       "    .dataframe tbody tr th {\n",
       "        vertical-align: top;\n",
       "    }\n",
       "\n",
       "    .dataframe thead th {\n",
       "        text-align: right;\n",
       "    }\n",
       "</style>\n",
       "<table border=\"1\" class=\"dataframe\">\n",
       "  <thead>\n",
       "    <tr style=\"text-align: right;\">\n",
       "      <th></th>\n",
       "      <th>year</th>\n",
       "      <th>country_noc</th>\n",
       "      <th>total</th>\n",
       "      <th>eds</th>\n",
       "    </tr>\n",
       "  </thead>\n",
       "  <tbody>\n",
       "    <tr>\n",
       "      <th>0</th>\n",
       "      <td>1896</td>\n",
       "      <td>USA</td>\n",
       "      <td>20</td>\n",
       "      <td>Summer Olympics</td>\n",
       "    </tr>\n",
       "    <tr>\n",
       "      <th>1</th>\n",
       "      <td>1896</td>\n",
       "      <td>GRE</td>\n",
       "      <td>47</td>\n",
       "      <td>Summer Olympics</td>\n",
       "    </tr>\n",
       "  </tbody>\n",
       "</table>\n",
       "</div>"
      ],
      "text/plain": [
       "   year country_noc  total              eds\n",
       "0  1896         USA     20  Summer Olympics\n",
       "1  1896         GRE     47  Summer Olympics"
      ]
     },
     "execution_count": 20,
     "metadata": {},
     "output_type": "execute_result"
    }
   ],
   "source": [
    "df.head(2)"
   ]
  },
  {
   "cell_type": "code",
   "execution_count": 22,
   "id": "094a88e3-a707-486b-ab6e-a34e9a9bd0f4",
   "metadata": {},
   "outputs": [],
   "source": [
    "df = df.drop(df[df.year < 1996].index)"
   ]
  },
  {
   "cell_type": "code",
   "execution_count": 24,
   "id": "22b9ff9f-e62b-4dd3-b078-f64147f71296",
   "metadata": {},
   "outputs": [
    {
     "data": {
      "text/html": [
       "<div>\n",
       "<style scoped>\n",
       "    .dataframe tbody tr th:only-of-type {\n",
       "        vertical-align: middle;\n",
       "    }\n",
       "\n",
       "    .dataframe tbody tr th {\n",
       "        vertical-align: top;\n",
       "    }\n",
       "\n",
       "    .dataframe thead th {\n",
       "        text-align: right;\n",
       "    }\n",
       "</style>\n",
       "<table border=\"1\" class=\"dataframe\">\n",
       "  <thead>\n",
       "    <tr style=\"text-align: right;\">\n",
       "      <th></th>\n",
       "      <th>year</th>\n",
       "      <th>country_noc</th>\n",
       "      <th>total</th>\n",
       "      <th>eds</th>\n",
       "    </tr>\n",
       "  </thead>\n",
       "  <tbody>\n",
       "    <tr>\n",
       "      <th>758</th>\n",
       "      <td>1996</td>\n",
       "      <td>USA</td>\n",
       "      <td>101</td>\n",
       "      <td>Summer Olympics</td>\n",
       "    </tr>\n",
       "    <tr>\n",
       "      <th>759</th>\n",
       "      <td>1996</td>\n",
       "      <td>RUS</td>\n",
       "      <td>63</td>\n",
       "      <td>Summer Olympics</td>\n",
       "    </tr>\n",
       "  </tbody>\n",
       "</table>\n",
       "</div>"
      ],
      "text/plain": [
       "     year country_noc  total              eds\n",
       "758  1996         USA    101  Summer Olympics\n",
       "759  1996         RUS     63  Summer Olympics"
      ]
     },
     "execution_count": 24,
     "metadata": {},
     "output_type": "execute_result"
    }
   ],
   "source": [
    "df.head(2)"
   ]
  },
  {
   "cell_type": "code",
   "execution_count": 26,
   "id": "219d7d8a-1f36-412f-8453-8ad284ecedd9",
   "metadata": {},
   "outputs": [],
   "source": [
    "dfsummer = df.drop(df[(df.eds != 'Summer Olympics')].index)"
   ]
  },
  {
   "cell_type": "code",
   "execution_count": 28,
   "id": "5def8f17-36e1-47ae-b725-32c0b1f1ff88",
   "metadata": {},
   "outputs": [
    {
     "data": {
      "text/html": [
       "<div>\n",
       "<style scoped>\n",
       "    .dataframe tbody tr th:only-of-type {\n",
       "        vertical-align: middle;\n",
       "    }\n",
       "\n",
       "    .dataframe tbody tr th {\n",
       "        vertical-align: top;\n",
       "    }\n",
       "\n",
       "    .dataframe thead th {\n",
       "        text-align: right;\n",
       "    }\n",
       "</style>\n",
       "<table border=\"1\" class=\"dataframe\">\n",
       "  <thead>\n",
       "    <tr style=\"text-align: right;\">\n",
       "      <th></th>\n",
       "      <th>year</th>\n",
       "      <th>country_noc</th>\n",
       "      <th>total</th>\n",
       "      <th>eds</th>\n",
       "    </tr>\n",
       "  </thead>\n",
       "  <tbody>\n",
       "    <tr>\n",
       "      <th>758</th>\n",
       "      <td>1996</td>\n",
       "      <td>USA</td>\n",
       "      <td>101</td>\n",
       "      <td>Summer Olympics</td>\n",
       "    </tr>\n",
       "    <tr>\n",
       "      <th>759</th>\n",
       "      <td>1996</td>\n",
       "      <td>RUS</td>\n",
       "      <td>63</td>\n",
       "      <td>Summer Olympics</td>\n",
       "    </tr>\n",
       "  </tbody>\n",
       "</table>\n",
       "</div>"
      ],
      "text/plain": [
       "     year country_noc  total              eds\n",
       "758  1996         USA    101  Summer Olympics\n",
       "759  1996         RUS     63  Summer Olympics"
      ]
     },
     "execution_count": 28,
     "metadata": {},
     "output_type": "execute_result"
    }
   ],
   "source": [
    "dfsummer.head(2)"
   ]
  },
  {
   "cell_type": "code",
   "execution_count": 30,
   "id": "cefada87-7248-4f42-a129-245fdce430d9",
   "metadata": {},
   "outputs": [
    {
     "data": {
      "text/html": [
       "<div>\n",
       "<style scoped>\n",
       "    .dataframe tbody tr th:only-of-type {\n",
       "        vertical-align: middle;\n",
       "    }\n",
       "\n",
       "    .dataframe tbody tr th {\n",
       "        vertical-align: top;\n",
       "    }\n",
       "\n",
       "    .dataframe thead th {\n",
       "        text-align: right;\n",
       "    }\n",
       "</style>\n",
       "<table border=\"1\" class=\"dataframe\">\n",
       "  <thead>\n",
       "    <tr style=\"text-align: right;\">\n",
       "      <th></th>\n",
       "      <th>year</th>\n",
       "      <th>country_noc</th>\n",
       "      <th>total</th>\n",
       "      <th>eds</th>\n",
       "    </tr>\n",
       "  </thead>\n",
       "  <tbody>\n",
       "    <tr>\n",
       "      <th>1341</th>\n",
       "      <td>2020</td>\n",
       "      <td>MDA</td>\n",
       "      <td>1</td>\n",
       "      <td>Summer Olympics</td>\n",
       "    </tr>\n",
       "    <tr>\n",
       "      <th>1342</th>\n",
       "      <td>2020</td>\n",
       "      <td>SYR</td>\n",
       "      <td>1</td>\n",
       "      <td>Summer Olympics</td>\n",
       "    </tr>\n",
       "  </tbody>\n",
       "</table>\n",
       "</div>"
      ],
      "text/plain": [
       "      year country_noc  total              eds\n",
       "1341  2020         MDA      1  Summer Olympics\n",
       "1342  2020         SYR      1  Summer Olympics"
      ]
     },
     "execution_count": 30,
     "metadata": {},
     "output_type": "execute_result"
    }
   ],
   "source": [
    "dfsummer.tail(2)"
   ]
  },
  {
   "cell_type": "code",
   "execution_count": 32,
   "id": "9d9e52d9-efda-4bcf-ac9f-4f1e2481b7c7",
   "metadata": {},
   "outputs": [],
   "source": [
    "dfsummer = df"
   ]
  },
  {
   "cell_type": "code",
   "execution_count": 34,
   "id": "6684c139-5543-4bc1-a2da-6ebc0e3e6e0d",
   "metadata": {},
   "outputs": [],
   "source": [
    "dfsummer2 = df.drop(df.columns[[3]], axis=1) "
   ]
  },
  {
   "cell_type": "code",
   "execution_count": 36,
   "id": "3c905f63-8c1d-470c-9853-e3a26b9228ba",
   "metadata": {},
   "outputs": [
    {
     "name": "stdout",
     "output_type": "stream",
     "text": [
      "<class 'pandas.core.frame.DataFrame'>\n",
      "Index: 770 entries, 758 to 1781\n",
      "Data columns (total 3 columns):\n",
      " #   Column       Non-Null Count  Dtype \n",
      "---  ------       --------------  ----- \n",
      " 0   year         770 non-null    int64 \n",
      " 1   country_noc  770 non-null    object\n",
      " 2   total        770 non-null    int64 \n",
      "dtypes: int64(2), object(1)\n",
      "memory usage: 40.2+ KB\n"
     ]
    }
   ],
   "source": [
    "dfsummer2.info()"
   ]
  },
  {
   "cell_type": "code",
   "execution_count": 38,
   "id": "a7ed26b7-8332-4f68-b753-90c0b6b1af02",
   "metadata": {},
   "outputs": [
    {
     "data": {
      "text/plain": [
       "(770, 3)"
      ]
     },
     "execution_count": 38,
     "metadata": {},
     "output_type": "execute_result"
    }
   ],
   "source": [
    "dfsummer2.shape"
   ]
  },
  {
   "cell_type": "code",
   "execution_count": 50,
   "id": "4c8d99c9-2be8-401c-bfea-289a62d336ef",
   "metadata": {},
   "outputs": [
    {
     "data": {
      "text/html": [
       "<div>\n",
       "<style scoped>\n",
       "    .dataframe tbody tr th:only-of-type {\n",
       "        vertical-align: middle;\n",
       "    }\n",
       "\n",
       "    .dataframe tbody tr th {\n",
       "        vertical-align: top;\n",
       "    }\n",
       "\n",
       "    .dataframe thead th {\n",
       "        text-align: right;\n",
       "    }\n",
       "</style>\n",
       "<table border=\"1\" class=\"dataframe\">\n",
       "  <thead>\n",
       "    <tr style=\"text-align: right;\">\n",
       "      <th></th>\n",
       "      <th>year</th>\n",
       "      <th>country_noc</th>\n",
       "      <th>total</th>\n",
       "    </tr>\n",
       "  </thead>\n",
       "  <tbody>\n",
       "    <tr>\n",
       "      <th>758</th>\n",
       "      <td>1996</td>\n",
       "      <td>USA</td>\n",
       "      <td>101</td>\n",
       "    </tr>\n",
       "    <tr>\n",
       "      <th>759</th>\n",
       "      <td>1996</td>\n",
       "      <td>RUS</td>\n",
       "      <td>63</td>\n",
       "    </tr>\n",
       "  </tbody>\n",
       "</table>\n",
       "</div>"
      ],
      "text/plain": [
       "     year country_noc  total\n",
       "758  1996         USA    101\n",
       "759  1996         RUS     63"
      ]
     },
     "execution_count": 50,
     "metadata": {},
     "output_type": "execute_result"
    }
   ],
   "source": [
    "dfsummer2.head(2)"
   ]
  },
  {
   "cell_type": "code",
   "execution_count": 52,
   "id": "208858e5-e5ea-43da-be1e-7dd717d582ea",
   "metadata": {},
   "outputs": [],
   "source": [
    "dfs1996 = dfsummer2.drop(df[df.year > 1996].index)"
   ]
  },
  {
   "cell_type": "code",
   "execution_count": 54,
   "id": "43ef53f3-6af5-4aff-a6e8-d089d7dcbbdc",
   "metadata": {},
   "outputs": [
    {
     "data": {
      "text/html": [
       "<div>\n",
       "<style scoped>\n",
       "    .dataframe tbody tr th:only-of-type {\n",
       "        vertical-align: middle;\n",
       "    }\n",
       "\n",
       "    .dataframe tbody tr th {\n",
       "        vertical-align: top;\n",
       "    }\n",
       "\n",
       "    .dataframe thead th {\n",
       "        text-align: right;\n",
       "    }\n",
       "</style>\n",
       "<table border=\"1\" class=\"dataframe\">\n",
       "  <thead>\n",
       "    <tr style=\"text-align: right;\">\n",
       "      <th></th>\n",
       "      <th>year</th>\n",
       "      <th>country_noc</th>\n",
       "      <th>total</th>\n",
       "    </tr>\n",
       "  </thead>\n",
       "  <tbody>\n",
       "    <tr>\n",
       "      <th>758</th>\n",
       "      <td>1996</td>\n",
       "      <td>USA</td>\n",
       "      <td>101</td>\n",
       "    </tr>\n",
       "    <tr>\n",
       "      <th>759</th>\n",
       "      <td>1996</td>\n",
       "      <td>RUS</td>\n",
       "      <td>63</td>\n",
       "    </tr>\n",
       "    <tr>\n",
       "      <th>760</th>\n",
       "      <td>1996</td>\n",
       "      <td>GER</td>\n",
       "      <td>65</td>\n",
       "    </tr>\n",
       "    <tr>\n",
       "      <th>761</th>\n",
       "      <td>1996</td>\n",
       "      <td>CHN</td>\n",
       "      <td>50</td>\n",
       "    </tr>\n",
       "    <tr>\n",
       "      <th>762</th>\n",
       "      <td>1996</td>\n",
       "      <td>FRA</td>\n",
       "      <td>37</td>\n",
       "    </tr>\n",
       "  </tbody>\n",
       "</table>\n",
       "</div>"
      ],
      "text/plain": [
       "     year country_noc  total\n",
       "758  1996         USA    101\n",
       "759  1996         RUS     63\n",
       "760  1996         GER     65\n",
       "761  1996         CHN     50\n",
       "762  1996         FRA     37"
      ]
     },
     "execution_count": 54,
     "metadata": {},
     "output_type": "execute_result"
    }
   ],
   "source": [
    "dfs1996.head()"
   ]
  },
  {
   "cell_type": "code",
   "execution_count": 58,
   "id": "01443447-0b54-4f61-bd15-fd5b57926e26",
   "metadata": {},
   "outputs": [
    {
     "data": {
      "text/plain": [
       "(79, 3)"
      ]
     },
     "execution_count": 58,
     "metadata": {},
     "output_type": "execute_result"
    }
   ],
   "source": [
    "dfs1996.shape"
   ]
  },
  {
   "cell_type": "code",
   "execution_count": 60,
   "id": "e58b35aa-6333-4c8a-b21d-494a7c43bb27",
   "metadata": {},
   "outputs": [
    {
     "name": "stdout",
     "output_type": "stream",
     "text": [
      "842\n"
     ]
    }
   ],
   "source": [
    "print(dfs1996['total'].sum())"
   ]
  },
  {
   "cell_type": "code",
   "execution_count": null,
   "id": "692dba17-4ddf-49fd-a129-bdccf4010c02",
   "metadata": {},
   "outputs": [],
   "source": []
  }
 ],
 "metadata": {
  "kernelspec": {
   "display_name": "Python 3 (ipykernel)",
   "language": "python",
   "name": "python3"
  },
  "language_info": {
   "codemirror_mode": {
    "name": "ipython",
    "version": 3
   },
   "file_extension": ".py",
   "mimetype": "text/x-python",
   "name": "python",
   "nbconvert_exporter": "python",
   "pygments_lexer": "ipython3",
   "version": "3.11.7"
  }
 },
 "nbformat": 4,
 "nbformat_minor": 5
}
